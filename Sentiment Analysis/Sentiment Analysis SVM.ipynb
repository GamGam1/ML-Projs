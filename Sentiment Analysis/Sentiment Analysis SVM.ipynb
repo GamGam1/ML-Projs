{
 "cells": [
  {
   "cell_type": "code",
   "execution_count": 300,
   "metadata": {},
   "outputs": [],
   "source": [
    "import numpy as np\n",
    "import pandas as pd\n",
    "import re\n",
    "from sklearn import svm\n",
    "from sklearn.model_selection import train_test_split\n",
    "from sklearn.model_selection import cross_val_score\n",
    "from sklearn.model_selection import KFold\n",
    "import matplotlib.pyplot as plt"
   ]
  },
  {
   "cell_type": "markdown",
   "metadata": {},
   "source": [
    "### useful funcs"
   ]
  },
  {
   "cell_type": "code",
   "execution_count": 189,
   "metadata": {},
   "outputs": [],
   "source": [
    "def find_words(str):\n",
    "    pattern = r'\\b[A-Za-z\\']+\\b'\n",
    "    full_words = re.findall(pattern, str)\n",
    "    return np.array(full_words)\n",
    "\n",
    "def prop_word(lst_words,word):\n",
    "    \"\"\"\n",
    "    lst of words should be a numpy array\n",
    "    \"\"\"\n",
    "    if sum(lst_words == word) == 0:\n",
    "        return 0\n",
    "    full_words, word_count = np.unique(lst_words, return_counts= True)\n",
    "    index_word = np.argmax(full_words == word)\n",
    "    return word_count[index_word] / sum(word_count) "
   ]
  },
  {
   "cell_type": "markdown",
   "metadata": {},
   "source": [
    "### loading data and feature selection "
   ]
  },
  {
   "cell_type": "code",
   "execution_count": 373,
   "metadata": {},
   "outputs": [
    {
     "data": {
      "text/html": [
       "<div>\n",
       "<style scoped>\n",
       "    .dataframe tbody tr th:only-of-type {\n",
       "        vertical-align: middle;\n",
       "    }\n",
       "\n",
       "    .dataframe tbody tr th {\n",
       "        vertical-align: top;\n",
       "    }\n",
       "\n",
       "    .dataframe thead th {\n",
       "        text-align: right;\n",
       "    }\n",
       "</style>\n",
       "<table border=\"1\" class=\"dataframe\">\n",
       "  <thead>\n",
       "    <tr style=\"text-align: right;\">\n",
       "      <th></th>\n",
       "      <th>Review</th>\n",
       "      <th>Polarity</th>\n",
       "      <th>words</th>\n",
       "    </tr>\n",
       "  </thead>\n",
       "  <tbody>\n",
       "    <tr>\n",
       "      <th>0</th>\n",
       "      <td>summer catch ( 2001 ) . starring freddie prinz...</td>\n",
       "      <td>-1</td>\n",
       "      <td>[summer, catch, starring, freddie, prinze, jr,...</td>\n",
       "    </tr>\n",
       "    <tr>\n",
       "      <th>1</th>\n",
       "      <td>as you should know  this summer has been less ...</td>\n",
       "      <td>-1</td>\n",
       "      <td>[as, you, should, know, this, summer, has, bee...</td>\n",
       "    </tr>\n",
       "    <tr>\n",
       "      <th>2</th>\n",
       "      <td>back in the early years of his career  eddie m...</td>\n",
       "      <td>-1</td>\n",
       "      <td>[back, in, the, early, years, of, his, career,...</td>\n",
       "    </tr>\n",
       "    <tr>\n",
       "      <th>3</th>\n",
       "      <td>the modern use of the western movie  and the w...</td>\n",
       "      <td>-1</td>\n",
       "      <td>[the, modern, use, of, the, western, movie, an...</td>\n",
       "    </tr>\n",
       "    <tr>\n",
       "      <th>4</th>\n",
       "      <td>note : some may consider portions of the follo...</td>\n",
       "      <td>-1</td>\n",
       "      <td>[note, some, may, consider, portions, of, the,...</td>\n",
       "    </tr>\n",
       "    <tr>\n",
       "      <th>...</th>\n",
       "      <td>...</td>\n",
       "      <td>...</td>\n",
       "      <td>...</td>\n",
       "    </tr>\n",
       "    <tr>\n",
       "      <th>1395</th>\n",
       "      <td>member of the 'internet movie critics associat...</td>\n",
       "      <td>1</td>\n",
       "      <td>[member, of, the, internet, movie, critics, as...</td>\n",
       "    </tr>\n",
       "    <tr>\n",
       "      <th>1396</th>\n",
       "      <td>capsule : what a surprise : a big-name hollywo...</td>\n",
       "      <td>1</td>\n",
       "      <td>[capsule, what, a, surprise, a, big, name, hol...</td>\n",
       "    </tr>\n",
       "    <tr>\n",
       "      <th>1397</th>\n",
       "      <td>the truman show ( paramount pictures ) running...</td>\n",
       "      <td>1</td>\n",
       "      <td>[the, truman, show, paramount, pictures, runni...</td>\n",
       "    </tr>\n",
       "    <tr>\n",
       "      <th>1398</th>\n",
       "      <td>by now i figured i'd seen every alfred hitchco...</td>\n",
       "      <td>1</td>\n",
       "      <td>[by, now, i, figured, i'd, seen, every, alfred...</td>\n",
       "    </tr>\n",
       "    <tr>\n",
       "      <th>1399</th>\n",
       "      <td>starring kyle maclachlan  laura dern  isabella...</td>\n",
       "      <td>1</td>\n",
       "      <td>[starring, kyle, maclachlan, laura, dern, isab...</td>\n",
       "    </tr>\n",
       "  </tbody>\n",
       "</table>\n",
       "<p>1400 rows × 3 columns</p>\n",
       "</div>"
      ],
      "text/plain": [
       "                                                 Review  Polarity  \\\n",
       "0     summer catch ( 2001 ) . starring freddie prinz...        -1   \n",
       "1     as you should know  this summer has been less ...        -1   \n",
       "2     back in the early years of his career  eddie m...        -1   \n",
       "3     the modern use of the western movie  and the w...        -1   \n",
       "4     note : some may consider portions of the follo...        -1   \n",
       "...                                                 ...       ...   \n",
       "1395  member of the 'internet movie critics associat...         1   \n",
       "1396  capsule : what a surprise : a big-name hollywo...         1   \n",
       "1397  the truman show ( paramount pictures ) running...         1   \n",
       "1398  by now i figured i'd seen every alfred hitchco...         1   \n",
       "1399  starring kyle maclachlan  laura dern  isabella...         1   \n",
       "\n",
       "                                                  words  \n",
       "0     [summer, catch, starring, freddie, prinze, jr,...  \n",
       "1     [as, you, should, know, this, summer, has, bee...  \n",
       "2     [back, in, the, early, years, of, his, career,...  \n",
       "3     [the, modern, use, of, the, western, movie, an...  \n",
       "4     [note, some, may, consider, portions, of, the,...  \n",
       "...                                                 ...  \n",
       "1395  [member, of, the, internet, movie, critics, as...  \n",
       "1396  [capsule, what, a, surprise, a, big, name, hol...  \n",
       "1397  [the, truman, show, paramount, pictures, runni...  \n",
       "1398  [by, now, i, figured, i'd, seen, every, alfred...  \n",
       "1399  [starring, kyle, maclachlan, laura, dern, isab...  \n",
       "\n",
       "[1400 rows x 3 columns]"
      ]
     },
     "execution_count": 373,
     "metadata": {},
     "output_type": "execute_result"
    }
   ],
   "source": [
    "#loading in data and getting list of words per record\n",
    "whole_review_data = pd.read_csv(\"movie_review.csv\",encoding= 'unicode_escape')\n",
    "whole_review_data['words'] = whole_review_data['Review'].apply(find_words)\n",
    "whole_review_data"
   ]
  },
  {
   "cell_type": "code",
   "execution_count": 274,
   "metadata": {},
   "outputs": [
    {
     "data": {
      "text/html": [
       "<div>\n",
       "<style scoped>\n",
       "    .dataframe tbody tr th:only-of-type {\n",
       "        vertical-align: middle;\n",
       "    }\n",
       "\n",
       "    .dataframe tbody tr th {\n",
       "        vertical-align: top;\n",
       "    }\n",
       "\n",
       "    .dataframe thead th {\n",
       "        text-align: right;\n",
       "    }\n",
       "</style>\n",
       "<table border=\"1\" class=\"dataframe\">\n",
       "  <thead>\n",
       "    <tr style=\"text-align: right;\">\n",
       "      <th></th>\n",
       "      <th>words</th>\n",
       "      <th>count</th>\n",
       "    </tr>\n",
       "  </thead>\n",
       "  <tbody>\n",
       "    <tr>\n",
       "      <th>0</th>\n",
       "      <td>'s</td>\n",
       "      <td>88</td>\n",
       "    </tr>\n",
       "    <tr>\n",
       "      <th>1</th>\n",
       "      <td>a</td>\n",
       "      <td>695</td>\n",
       "    </tr>\n",
       "    <tr>\n",
       "      <th>2</th>\n",
       "      <td>aa</td>\n",
       "      <td>9</td>\n",
       "    </tr>\n",
       "    <tr>\n",
       "      <th>3</th>\n",
       "      <td>aaliyah</td>\n",
       "      <td>1</td>\n",
       "    </tr>\n",
       "    <tr>\n",
       "      <th>4</th>\n",
       "      <td>aan</td>\n",
       "      <td>2</td>\n",
       "    </tr>\n",
       "    <tr>\n",
       "      <th>...</th>\n",
       "      <td>...</td>\n",
       "      <td>...</td>\n",
       "    </tr>\n",
       "    <tr>\n",
       "      <th>27655</th>\n",
       "      <td>zwick</td>\n",
       "      <td>5</td>\n",
       "    </tr>\n",
       "    <tr>\n",
       "      <th>27656</th>\n",
       "      <td>zwick's</td>\n",
       "      <td>3</td>\n",
       "    </tr>\n",
       "    <tr>\n",
       "      <th>27657</th>\n",
       "      <td>zwigoff's</td>\n",
       "      <td>1</td>\n",
       "    </tr>\n",
       "    <tr>\n",
       "      <th>27658</th>\n",
       "      <td>zycie</td>\n",
       "      <td>1</td>\n",
       "    </tr>\n",
       "    <tr>\n",
       "      <th>27659</th>\n",
       "      <td>zydeco</td>\n",
       "      <td>1</td>\n",
       "    </tr>\n",
       "  </tbody>\n",
       "</table>\n",
       "<p>27660 rows × 2 columns</p>\n",
       "</div>"
      ],
      "text/plain": [
       "           words  count\n",
       "0             's     88\n",
       "1              a    695\n",
       "2             aa      9\n",
       "3        aaliyah      1\n",
       "4            aan      2\n",
       "...          ...    ...\n",
       "27655      zwick      5\n",
       "27656    zwick's      3\n",
       "27657  zwigoff's      1\n",
       "27658      zycie      1\n",
       "27659     zydeco      1\n",
       "\n",
       "[27660 rows x 2 columns]"
      ]
     },
     "execution_count": 274,
     "metadata": {},
     "output_type": "execute_result"
    }
   ],
   "source": [
    "#get all positive words \n",
    "whole_pos = whole_review_data[whole_review_data[\"Polarity\"] == 1]['words'].to_list()\n",
    "pos_words = np.array([])\n",
    "for word_arr in whole_pos:\n",
    "    unique_lst = list(set(word_arr))\n",
    "    pos_words = np.append(pos_words, unique_lst)\n",
    "pos_words_set = set(pos_words)\n",
    "unique_pos_words, pos_word_count =np.unique(pos_words, return_counts= True)\n",
    "pos_df = pd.DataFrame({'words': unique_pos_words, 'count': pos_word_count})\n",
    "pos_df"
   ]
  },
  {
   "cell_type": "code",
   "execution_count": 275,
   "metadata": {},
   "outputs": [
    {
     "data": {
      "text/html": [
       "<div>\n",
       "<style scoped>\n",
       "    .dataframe tbody tr th:only-of-type {\n",
       "        vertical-align: middle;\n",
       "    }\n",
       "\n",
       "    .dataframe tbody tr th {\n",
       "        vertical-align: top;\n",
       "    }\n",
       "\n",
       "    .dataframe thead th {\n",
       "        text-align: right;\n",
       "    }\n",
       "</style>\n",
       "<table border=\"1\" class=\"dataframe\">\n",
       "  <thead>\n",
       "    <tr style=\"text-align: right;\">\n",
       "      <th></th>\n",
       "      <th>words</th>\n",
       "      <th>count</th>\n",
       "    </tr>\n",
       "  </thead>\n",
       "  <tbody>\n",
       "    <tr>\n",
       "      <th>0</th>\n",
       "      <td>'</td>\n",
       "      <td>5</td>\n",
       "    </tr>\n",
       "    <tr>\n",
       "      <th>1</th>\n",
       "      <td>'s</td>\n",
       "      <td>91</td>\n",
       "    </tr>\n",
       "    <tr>\n",
       "      <th>2</th>\n",
       "      <td>a</td>\n",
       "      <td>696</td>\n",
       "    </tr>\n",
       "    <tr>\n",
       "      <th>3</th>\n",
       "      <td>aa</td>\n",
       "      <td>8</td>\n",
       "    </tr>\n",
       "    <tr>\n",
       "      <th>4</th>\n",
       "      <td>aaa</td>\n",
       "      <td>1</td>\n",
       "    </tr>\n",
       "    <tr>\n",
       "      <th>...</th>\n",
       "      <td>...</td>\n",
       "      <td>...</td>\n",
       "    </tr>\n",
       "    <tr>\n",
       "      <th>26066</th>\n",
       "      <td>zul</td>\n",
       "      <td>1</td>\n",
       "    </tr>\n",
       "    <tr>\n",
       "      <th>26067</th>\n",
       "      <td>zurrell</td>\n",
       "      <td>1</td>\n",
       "    </tr>\n",
       "    <tr>\n",
       "      <th>26068</th>\n",
       "      <td>zwick</td>\n",
       "      <td>1</td>\n",
       "    </tr>\n",
       "    <tr>\n",
       "      <th>26069</th>\n",
       "      <td>zwick's</td>\n",
       "      <td>1</td>\n",
       "    </tr>\n",
       "    <tr>\n",
       "      <th>26070</th>\n",
       "      <td>zwitserse</td>\n",
       "      <td>1</td>\n",
       "    </tr>\n",
       "  </tbody>\n",
       "</table>\n",
       "<p>26071 rows × 2 columns</p>\n",
       "</div>"
      ],
      "text/plain": [
       "           words  count\n",
       "0              '      5\n",
       "1             's     91\n",
       "2              a    696\n",
       "3             aa      8\n",
       "4            aaa      1\n",
       "...          ...    ...\n",
       "26066        zul      1\n",
       "26067    zurrell      1\n",
       "26068      zwick      1\n",
       "26069    zwick's      1\n",
       "26070  zwitserse      1\n",
       "\n",
       "[26071 rows x 2 columns]"
      ]
     },
     "execution_count": 275,
     "metadata": {},
     "output_type": "execute_result"
    }
   ],
   "source": [
    "#get all negative words\n",
    "whole_neg = whole_review_data[whole_review_data[\"Polarity\"] == -1]['words'].to_list()\n",
    "neg_words = np.array([])\n",
    "for word_arr in whole_neg:\n",
    "    unique_lst = list(set(word_arr))\n",
    "    neg_words  = np.append(neg_words , unique_lst)\n",
    "neg_words_set  = set(neg_words )\n",
    "unique_neg_words, neg_word_count =np.unique(neg_words, return_counts= True)\n",
    "neg_df = pd.DataFrame({'words': unique_neg_words, 'count': neg_word_count})\n",
    "neg_df"
   ]
  },
  {
   "cell_type": "code",
   "execution_count": 276,
   "metadata": {},
   "outputs": [
    {
     "data": {
      "text/plain": [
       "(10952, 9363, 37023)"
      ]
     },
     "execution_count": 276,
     "metadata": {},
     "output_type": "execute_result"
    }
   ],
   "source": [
    "only_pos = list(pos_words_set - neg_words_set)\n",
    "only_neg = list(neg_words_set - pos_words_set)\n",
    "both_class = list(pos_words_set.union(neg_words_set))\n",
    "len(only_pos), len(only_neg), len(both_class)"
   ]
  },
  {
   "cell_type": "code",
   "execution_count": 279,
   "metadata": {},
   "outputs": [
    {
     "data": {
      "text/html": [
       "<div>\n",
       "<style scoped>\n",
       "    .dataframe tbody tr th:only-of-type {\n",
       "        vertical-align: middle;\n",
       "    }\n",
       "\n",
       "    .dataframe tbody tr th {\n",
       "        vertical-align: top;\n",
       "    }\n",
       "\n",
       "    .dataframe thead th {\n",
       "        text-align: right;\n",
       "    }\n",
       "</style>\n",
       "<table border=\"1\" class=\"dataframe\">\n",
       "  <thead>\n",
       "    <tr style=\"text-align: right;\">\n",
       "      <th></th>\n",
       "      <th>words</th>\n",
       "      <th>count</th>\n",
       "    </tr>\n",
       "  </thead>\n",
       "  <tbody>\n",
       "    <tr>\n",
       "      <th>26604</th>\n",
       "      <td>vulnerable</td>\n",
       "      <td>15</td>\n",
       "    </tr>\n",
       "    <tr>\n",
       "      <th>110</th>\n",
       "      <td>accessible</td>\n",
       "      <td>11</td>\n",
       "    </tr>\n",
       "    <tr>\n",
       "      <th>869</th>\n",
       "      <td>animators</td>\n",
       "      <td>11</td>\n",
       "    </tr>\n",
       "    <tr>\n",
       "      <th>22378</th>\n",
       "      <td>sings</td>\n",
       "      <td>11</td>\n",
       "    </tr>\n",
       "    <tr>\n",
       "      <th>1378</th>\n",
       "      <td>astounding</td>\n",
       "      <td>10</td>\n",
       "    </tr>\n",
       "  </tbody>\n",
       "</table>\n",
       "</div>"
      ],
      "text/plain": [
       "            words  count\n",
       "26604  vulnerable     15\n",
       "110    accessible     11\n",
       "869     animators     11\n",
       "22378       sings     11\n",
       "1378   astounding     10"
      ]
     },
     "execution_count": 279,
     "metadata": {},
     "output_type": "execute_result"
    }
   ],
   "source": [
    "only_pos_df = pos_df[np.isin(pos_df['words'], only_pos)]\n",
    "only_pos_df.sort_values(by='count', ascending=False).head()"
   ]
  },
  {
   "cell_type": "code",
   "execution_count": 282,
   "metadata": {},
   "outputs": [
    {
     "data": {
      "text/html": [
       "<div>\n",
       "<style scoped>\n",
       "    .dataframe tbody tr th:only-of-type {\n",
       "        vertical-align: middle;\n",
       "    }\n",
       "\n",
       "    .dataframe tbody tr th {\n",
       "        vertical-align: top;\n",
       "    }\n",
       "\n",
       "    .dataframe thead th {\n",
       "        text-align: right;\n",
       "    }\n",
       "</style>\n",
       "<table border=\"1\" class=\"dataframe\">\n",
       "  <thead>\n",
       "    <tr style=\"text-align: right;\">\n",
       "      <th></th>\n",
       "      <th>words</th>\n",
       "      <th>count</th>\n",
       "    </tr>\n",
       "  </thead>\n",
       "  <tbody>\n",
       "    <tr>\n",
       "      <th>20220</th>\n",
       "      <td>seagal</td>\n",
       "      <td>14</td>\n",
       "    </tr>\n",
       "    <tr>\n",
       "      <th>6898</th>\n",
       "      <td>dud</td>\n",
       "      <td>14</td>\n",
       "    </tr>\n",
       "    <tr>\n",
       "      <th>15182</th>\n",
       "      <td>muddled</td>\n",
       "      <td>12</td>\n",
       "    </tr>\n",
       "    <tr>\n",
       "      <th>24473</th>\n",
       "      <td>unsuspecting</td>\n",
       "      <td>11</td>\n",
       "    </tr>\n",
       "    <tr>\n",
       "      <th>8294</th>\n",
       "      <td>feeble</td>\n",
       "      <td>10</td>\n",
       "    </tr>\n",
       "  </tbody>\n",
       "</table>\n",
       "</div>"
      ],
      "text/plain": [
       "              words  count\n",
       "20220        seagal     14\n",
       "6898            dud     14\n",
       "15182       muddled     12\n",
       "24473  unsuspecting     11\n",
       "8294         feeble     10"
      ]
     },
     "execution_count": 282,
     "metadata": {},
     "output_type": "execute_result"
    }
   ],
   "source": [
    "only_neg_df = neg_df[np.isin(neg_df['words'], only_neg)]\n",
    "only_neg_df.sort_values(by='count', ascending=False).head()"
   ]
  },
  {
   "cell_type": "code",
   "execution_count": 283,
   "metadata": {},
   "outputs": [],
   "source": [
    "#neg df\n",
    "df_1 = neg_df[np.isin(neg_df['words'], both_class)][(neg_df['count'] >= 20) & (neg_df['count'] <= 40) ]\n",
    "df_1.rename(columns={'count': 'neg count'}, inplace=True)\n",
    "#pos df \n",
    "df_2 =  pos_df[np.isin(pos_df['words'], both_class)][(pos_df['count'] >= 20) & (pos_df['count'] <= 40) ]\n",
    "df_2.rename(columns={'count': 'pos count'}, inplace=True)\n",
    "#both df\n",
    "both_df = pd.merge(df_1,df_2, on ='words')\n",
    "both_sorted = both_df[both_df['neg count'] != both_df['pos count']].sort_values(by=['neg count', 'pos count'])"
   ]
  },
  {
   "cell_type": "code",
   "execution_count": 289,
   "metadata": {},
   "outputs": [],
   "source": [
    "#both_sorted.tail(30)"
   ]
  },
  {
   "cell_type": "code",
   "execution_count": 288,
   "metadata": {},
   "outputs": [],
   "source": [
    "#both_sorted.head(30)"
   ]
  },
  {
   "cell_type": "code",
   "execution_count": 374,
   "metadata": {},
   "outputs": [],
   "source": [
    "neg_lst = only_neg_df[only_neg_df['count'] >= 8]['words'].to_numpy()\n",
    "pos_lst = only_pos_df[only_pos_df['count'] >= 8]['words'].to_numpy()\n",
    "both_lst = np.array(['love','fun','fact','why','yet','better','think','going','media','ended','episode','fake','baby','pass'])\n",
    "word_lst = np.append(np.append(neg_lst, pos_lst), both_lst)"
   ]
  },
  {
   "cell_type": "code",
   "execution_count": 375,
   "metadata": {},
   "outputs": [
    {
     "data": {
      "text/plain": [
       "(1400, 54)"
      ]
     },
     "execution_count": 375,
     "metadata": {},
     "output_type": "execute_result"
    }
   ],
   "source": [
    "for w in word_lst:\n",
    "    whole_review_data[w] = whole_review_data['words'].apply(prop_word, args=(w,))\n",
    "ft_df = whole_review_data.iloc[:,3:].to_numpy()\n",
    "labels = whole_review_data.iloc[:,1].to_numpy()\n",
    "ft_df.shape"
   ]
  },
  {
   "cell_type": "markdown",
   "metadata": {},
   "source": [
    "### build classifer"
   ]
  },
  {
   "cell_type": "code",
   "execution_count": 376,
   "metadata": {},
   "outputs": [],
   "source": [
    "#setting up train and test set plus kfold set up\n",
    "X_train, X_test, y_train, y_test = train_test_split(ft_df, labels, test_size=0.2, random_state=42)\n",
    "kf = KFold(n_splits=5, shuffle=True, random_state=42)\n"
   ]
  },
  {
   "cell_type": "code",
   "execution_count": 377,
   "metadata": {},
   "outputs": [
    {
     "data": {
      "text/plain": [
       "[0.4892857142857142,\n",
       " 0.5526785714285715,\n",
       " 0.6223214285714286,\n",
       " 0.5830357142857142]"
      ]
     },
     "execution_count": 377,
     "metadata": {},
     "output_type": "execute_result"
    }
   ],
   "source": [
    "#pick the best kernel\n",
    "lst_of_kernel = ['linear', 'poly', 'rbf', 'sigmoid']\n",
    "avg_scores = []\n",
    "for k in lst_of_kernel:\n",
    "    clf = svm.SVC(kernel=k)\n",
    "    scores = cross_val_score(clf, X_train, y_train, cv=kf, scoring='accuracy')\n",
    "    avg_scores.append(np.mean(scores))\n",
    "avg_scores"
   ]
  },
  {
   "cell_type": "code",
   "execution_count": 378,
   "metadata": {},
   "outputs": [
    {
     "data": {
      "image/png": "[encoded data removed]",
      "text/plain": [
       "<Figure size 640x480 with 1 Axes>"
      ]
     },
     "metadata": {},
     "output_type": "display_data"
    }
   ],
   "source": [
    "plt.bar(lst_of_kernel, avg_scores)\n",
    "plt.xlabel('Kernels')\n",
    "plt.ylabel('Avg scores')\n",
    "plt.show()"
   ]
  },
  {
   "cell_type": "code",
   "execution_count": 379,
   "metadata": {},
   "outputs": [
    {
     "data": {
      "text/plain": [
       "[0.5875,\n",
       " 0.60625,\n",
       " 0.6053571428571429,\n",
       " 0.6214285714285714,\n",
       " 0.6223214285714286,\n",
       " 0.5750000000000001,\n",
       " 0.4892857142857142,\n",
       " 0.4892857142857142]"
      ]
     },
     "execution_count": 379,
     "metadata": {},
     "output_type": "execute_result"
    }
   ],
   "source": [
    "lst_c = [round(10000 * (1/10)**i,3)for i in np.arange(8)]\n",
    "c_avg_scores = []\n",
    "for c in lst_c:\n",
    "    clf = svm.SVC(kernel='rbf', C= c)\n",
    "    scores = cross_val_score(clf, X_train, y_train, cv=kf, scoring='accuracy')\n",
    "    c_avg_scores.append(np.mean(scores))\n",
    "c_avg_scores\n",
    "    "
   ]
  },
  {
   "cell_type": "code",
   "execution_count": 380,
   "metadata": {},
   "outputs": [
    {
     "data": {
      "image/png": "[encoded data removed]",
      "text/plain": [
       "<Figure size 640x480 with 1 Axes>"
      ]
     },
     "metadata": {},
     "output_type": "display_data"
    }
   ],
   "source": [
    "plt.bar([str(i) for i in lst_c], c_avg_scores)\n",
    "plt.xlabel('C values')\n",
    "plt.ylabel('Avg scores')\n",
    "plt.show()"
   ]
  },
  {
   "cell_type": "code",
   "execution_count": 381,
   "metadata": {},
   "outputs": [
    {
     "data": {
      "text/plain": [
       "0.6"
      ]
     },
     "execution_count": 381,
     "metadata": {},
     "output_type": "execute_result"
    }
   ],
   "source": [
    "final_clf = svm.SVC(kernel='rbf', C= 10)\n",
    "final_clf.fit(X_train, y_train)\n",
    "\n",
    "acc = np.average(final_clf.predict(X_test) == y_test)\n",
    "acc"
   ]
  },
  {
   "cell_type": "code",
   "execution_count": null,
   "metadata": {},
   "outputs": [],
   "source": []
  }
 ],
 "metadata": {
  "kernelspec": {
   "display_name": "Python 3",
   "language": "python",
   "name": "python3"
  },
  "language_info": {
   "codemirror_mode": {
    "name": "ipython",
    "version": 3
   },
   "file_extension": ".py",
   "mimetype": "text/x-python",
   "name": "python",
   "nbconvert_exporter": "python",
   "pygments_lexer": "ipython3",
   "version": "3.8.3"
  },
  "orig_nbformat": 4
 },
 "nbformat": 4,
 "nbformat_minor": 2
}
